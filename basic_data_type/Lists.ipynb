{
 "cells": [
  {
   "cell_type": "markdown",
   "metadata": {},
   "source": [
    "Consider a list (list = []). You can perform the following commands:\n",
    "\n",
    "- insert i e: Insert integer  at position .\n",
    "- print: Print the list.\n",
    "- remove e: Delete the first occurrence of integer .\n",
    "- append e: Insert integer  at the end of the list.\n",
    "- sort: Sort the list.\n",
    "- pop: Pop the last element from the list.\n",
    "- reverse: Reverse the list.\n",
    "- Initialize your list and read in the value of  followed by  lines of commands where each command will be of the types listed above. Iterate through each command in order and perform the corresponding operation on your list.\n",
    "\n",
    "##### 題目解析\n",
    "看起來是希望當使用者輸入'insert 0 5' 時，我寫的程式可以自動完成insert()\n"
   ]
  },
  {
   "cell_type": "code",
   "execution_count": null,
   "metadata": {},
   "outputs": [],
   "source": [
    "# 題目給定\n",
    "if __name__ == '__main__':\n",
    "    N = int(input())"
   ]
  },
  {
   "cell_type": "code",
   "execution_count": 24,
   "metadata": {},
   "outputs": [
    {
     "name": "stdout",
     "output_type": "stream",
     "text": [
      "[6, 5, 10]\n",
      "[1, 5, 9, 10]\n",
      "[9, 5, 1]\n"
     ]
    }
   ],
   "source": [
    "# 解答\n",
    "N = int(input())\n",
    "my_list =[]\n",
    "for i in range(N):\n",
    "    command = input().split()\n",
    "    if command[0] == 'insert':\n",
    "        position = int(command[1])\n",
    "        nums = int(command[2])\n",
    "        my_list.insert(position, nums)\n",
    "    elif command[0] == 'print':\n",
    "        print(my_list)\n",
    "    elif command[0] == 'remove':\n",
    "        remove_num = int(command[1])\n",
    "        my_list.remove(remove_num)\n",
    "    elif command[0] == 'append':\n",
    "        append_num = command[1]\n",
    "        my_list.append(int(append_num))\n",
    "    elif command[0] == 'sort':\n",
    "        my_list.sort()\n",
    "    elif command[0] == 'pop':\n",
    "        my_list.pop()\n",
    "    elif command[0] == 'reverse':\n",
    "        my_list.reverse()\n",
    "    "
   ]
  },
  {
   "cell_type": "markdown",
   "metadata": {},
   "source": [
    "##### 小筆記\n",
    "- 一開始搞不懂這題目要我幹嘛，原來就是按照使用者的輸入返回對應的答案就可以了。\n",
    "- 本題使用到的技巧有 `slicing` + `if-else` + 一些list的功能\n",
    "- 記得有些功能是在int的情況下才可以使用，因此要加上int，例如：\n",
    "    - insert(位置, 數值)\n",
    "    - remove(數值)\n",
    "    - append可以接受所有型態，但因為題目希望返回整數，所以在這裡有加上     \n"
   ]
  },
  {
   "cell_type": "markdown",
   "metadata": {},
   "source": []
  }
 ],
 "metadata": {
  "kernelspec": {
   "display_name": "Python 3.9.6 64-bit",
   "language": "python",
   "name": "python3"
  },
  "language_info": {
   "codemirror_mode": {
    "name": "ipython",
    "version": 3
   },
   "file_extension": ".py",
   "mimetype": "text/x-python",
   "name": "python",
   "nbconvert_exporter": "python",
   "pygments_lexer": "ipython3",
   "version": "3.9.6"
  },
  "orig_nbformat": 4,
  "vscode": {
   "interpreter": {
    "hash": "31f2aee4e71d21fbe5cf8b01ff0e069b9275f58929596ceb00d14d90e3e16cd6"
   }
  }
 },
 "nbformat": 4,
 "nbformat_minor": 2
}
