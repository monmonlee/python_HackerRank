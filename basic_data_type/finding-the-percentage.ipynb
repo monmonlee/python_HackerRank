{
 "cells": [
  {
   "cell_type": "markdown",
   "metadata": {},
   "source": [
    "The provided code stub will read in a dictionary containing key/value pairs of name:[marks] for a list of students. Print the average of the marks array for the student name provided, showing 2 places after the decimal.\n",
    "\n",
    "\n",
    "\n",
    "Input Format\n",
    "\n",
    "The first line contains the integer n, the number of students' records. The next nn lines contain the names and marks obtained by a student, each value separated by a space. The final line contains `query_name`, the name of a student to query.\n",
    "\n",
    "\n",
    "Sample Input 0:\n",
    "\n",
    "    3\n",
    "    Krishna 67 68 69\n",
    "    Arjun 70 98 63\n",
    "    Malika 52 56 60\n",
    "    Malika\n",
    "\n",
    "\n",
    "Sample Output 0:\n",
    "\n",
    "    56.00\n",
    "\n"
   ]
  },
  {
   "cell_type": "code",
   "execution_count": null,
   "metadata": {},
   "outputs": [],
   "source": [
    "# 題目給定\n",
    "if __name__ == '__main__':\n",
    "    n = int(input())\n",
    "    student_marks = {}\n",
    "    for _ in range(n):\n",
    "        name, *line = input().split()\n",
    "        scores = list(map(float, line))\n",
    "        student_marks[name] = scores\n",
    "    query_name = input()"
   ]
  },
  {
   "cell_type": "markdown",
   "metadata": {},
   "source": [
    "題目解析：\n",
    "`n = int(input())` = 學生數量\n",
    "`student_marks` ＝ 學生姓名 ＋ 三個分數（以空格區分）\n",
    "`指定計算的學生名字` ＝ 學生名字 "
   ]
  },
  {
   "cell_type": "code",
   "execution_count": 36,
   "metadata": {},
   "outputs": [
    {
     "name": "stdout",
     "output_type": "stream",
     "text": [
      "45.00\n"
     ]
    }
   ],
   "source": [
    "# 解答\n",
    "n = int(input())\n",
    "student_marks = {}\n",
    "for _ in range(n):\n",
    "    name, *line = input().split()\n",
    "    scores = list(map(float, line))\n",
    "    student_marks[name] = scores\n",
    "query_name = input()    \n",
    "score_list = student_marks[query_name]\n",
    "# print(round((sum(score_list)/len(score_list)), 2))\n",
    "print(f\"{(sum(score_list)/len(score_list)):.2f}\")"
   ]
  },
  {
   "cell_type": "markdown",
   "metadata": {},
   "source": [
    "##### 小學習\n",
    "1. dict 的取值：\n",
    "    ```python\n",
    "    dict[key] = value\n",
    "    ```\n",
    "2. 格式化四捨五入 v.s round()\n",
    "    - `f\"{value:.2f}\"` → 返回字串，強制保持小數\n",
    "    - `round(value, 2)` → 返回數值，會自動省去尾隨的0    "
   ]
  },
  {
   "cell_type": "markdown",
   "metadata": {},
   "source": [
    "##### 小學習 － 題目是如何做到把輸入的key,value放到空字典中的？\n",
    "第一步驟：\n",
    "\n",
    "    ```python\n",
    "        for _ in range(n):\n",
    "            name, *line = input().split()\n",
    "    ```\n",
    "- range(n) = 一開始輸入的學生數量，因此會按照學生的數量跑完迴圈\n",
    "- `name, *line = input().split()` = 將輸入的結果用空格區分，變成name = input()的第一個，line = 剩餘的數字（目前是字串）list\n",
    "\n",
    "第二步驟：\n",
    "\n",
    "    ```python\n",
    "        for _ in range(n):\n",
    "            name, *line = input().split()\n",
    "            scores = list(map(float, line)) # ←\n",
    "    ```\n",
    "- 將剛剛分割出來的字串型態的數字，轉換成浮點數且list\n",
    "- 原本為['23', '56', '89']，轉換為 scores = [23, 56, 89] \n",
    "\n",
    "第三步驟：\n",
    "\n",
    "    ```python\n",
    "    student_marks = {} \n",
    "        for _ in range(n):\n",
    "            name, *line = input().split()\n",
    "            scores = list(map(float, line))\n",
    "            student_marks[name] = scores # ←\n",
    "    ```\n",
    "- 將姓名、分數放進剛剛一開始的空字典 student_marks 中\n",
    "- 結果變成 student_marks = {\"alice\": [23, 56, 89] }"
   ]
  },
  {
   "cell_type": "markdown",
   "metadata": {},
   "source": [
    "<!-- 小筆記 -->"
   ]
  }
 ],
 "metadata": {
  "kernelspec": {
   "display_name": "Python 3.9.6 64-bit",
   "language": "python",
   "name": "python3"
  },
  "language_info": {
   "codemirror_mode": {
    "name": "ipython",
    "version": 3
   },
   "file_extension": ".py",
   "mimetype": "text/x-python",
   "name": "python",
   "nbconvert_exporter": "python",
   "pygments_lexer": "ipython3",
   "version": "3.9.6"
  },
  "orig_nbformat": 4,
  "vscode": {
   "interpreter": {
    "hash": "31f2aee4e71d21fbe5cf8b01ff0e069b9275f58929596ceb00d14d90e3e16cd6"
   }
  }
 },
 "nbformat": 4,
 "nbformat_minor": 2
}
