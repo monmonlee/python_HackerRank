{
 "cells": [
  {
   "cell_type": "markdown",
   "metadata": {},
   "source": [
    "給四個整數 x、y、z 和 n，它們分別代表一個立方體的三個維度。請印出所有可能的座標 [i, j, k] 組成的列表，這些座標在 3D 網格上，且滿足 i + j + k 的總和不等於 n。\n",
    "限制條件：\n",
    "\n",
    "0 ≤ i ≤ x\n",
    "\n",
    "0 ≤ j ≤ y\n",
    "\n",
    "0 ≤ k ≤ z\n",
    "\n",
    "請使用 List Comprehensions（串列生成式）而不是多重迴圈來完成，作為學習練習。\n",
    "\n",
    "🌟 範例說明：\n",
    "\n",
    "輸入：\n",
    "\n",
    "x = 1\n",
    "\n",
    "y = 1\n",
    "\n",
    "z = 2\n",
    "\n",
    "n = 3\n",
    "\n",
    "所有可能的 [i, j, k] 組合：\n",
    "\n",
    "[0,0,0], [0,0,1], [0,0,2], [0,1,0], [0,1,1], [0,1,2], \n",
    "\n",
    "[1,0,0], [1,0,1], [1,0,2], [1,1,0], [1,1,1], [1,1,2]\n",
    "\n",
    "過濾掉總和等於 n=3 的組合：\n",
    "\n",
    "需要排除的（因為 i+j+k = 3）：\n",
    "\n",
    "[0,1,2] → 0+1+2=3 ❌\n",
    "\n",
    "[1,0,2] → 1+0+2=3 ❌\n",
    "\n",
    "[1,1,1] → 1+1+1=3 ❌\n",
    "\n",
    "最終答案（總和不等於 3 的）：\n",
    "[[0,0,0], [0,0,1], [0,0,2], [0,1,0], [0,1,1], [1,0,0], [1,0,1], [1,1,0], [1,1,2]]"
   ]
  },
  {
   "cell_type": "code",
   "execution_count": null,
   "metadata": {},
   "outputs": [],
   "source": [
    "# 題目給定\n",
    "if __name__ == '__main__':\n",
    "    x = int(input())\n",
    "    y = int(input())\n",
    "    z = int(input())\n",
    "    n = int(input())"
   ]
  },
  {
   "cell_type": "code",
   "execution_count": null,
   "metadata": {},
   "outputs": [],
   "source": [
    "# 正確解答\n",
    "if __name__ == '__main__':\n",
    "    x = int(input())\n",
    "    y = int(input())\n",
    "    z = int(input())\n",
    "    n = int(input())\n",
    "    result = [[i, j, k] for i in range(x+1) for j in range(y+1) for k in range(z+1) if i+j+k != n]\n",
    "    print(result)"
   ]
  },
  {
   "cell_type": "code",
   "execution_count": 17,
   "metadata": {},
   "outputs": [
    {
     "name": "stdout",
     "output_type": "stream",
     "text": [
      "[[0, 0, 0], [0, 0, 1], [0, 1, 0], [1, 0, 0], [1, 1, 1]]\n"
     ]
    }
   ],
   "source": [
    "# 傳統作法\n",
    "t = []\n",
    "x = int(input())\n",
    "y = int(input())\n",
    "z = int(input())\n",
    "n = int(input()) # 不能 = n\n",
    "for i in range (x+1):\n",
    "    for j in range (y+1):\n",
    "        for k in range(z+1):\n",
    "            if i+j+k != n:\n",
    "                t.append([i, j, k])\n",
    "print(t)"
   ]
  },
  {
   "cell_type": "markdown",
   "metadata": {},
   "source": [
    "學習心得：\n",
    "- 先寫出最傳統的回圈，能寫了再轉換成表達式\n",
    "- 如何知道要寫多重回圈？\n",
    "    - 題目表示「所有可能的組合」= 窮舉\n",
    "    - 窮舉通常代表每一個值都要進回圈\n",
    "- 變數獨立與否：\n",
    "    - 獨立：例如本題的座標：所以表現形式如下，內層的範圍不包含前面的變數，可以產生「完全展開」的笛卡爾積\n",
    "    ```python\n",
    "    for i in range(x):\n",
    "        for j in range(y)\n",
    "    ```\n",
    "    - 不獨立：例如要列印出一個金字塔，內層的變數被外層限制，只會列印出「特定組合」\n",
    "    ```python\n",
    "    for i in range(x):\n",
    "        for j in range(i+1)\n",
    "    ```\n",
    "    - 結論：所以可以看看題目是要求「所有組合」還是「特定組合(不是向本題的n條件限制，是回圈中的限制)」"
   ]
  },
  {
   "cell_type": "markdown",
   "metadata": {},
   "source": [
    "\n"
   ]
  }
 ],
 "metadata": {
  "kernelspec": {
   "display_name": "Python 3.9.6 64-bit",
   "language": "python",
   "name": "python3"
  },
  "language_info": {
   "codemirror_mode": {
    "name": "ipython",
    "version": 3
   },
   "file_extension": ".py",
   "mimetype": "text/x-python",
   "name": "python",
   "nbconvert_exporter": "python",
   "pygments_lexer": "ipython3",
   "version": "3.9.6"
  },
  "orig_nbformat": 4,
  "vscode": {
   "interpreter": {
    "hash": "31f2aee4e71d21fbe5cf8b01ff0e069b9275f58929596ceb00d14d90e3e16cd6"
   }
  }
 },
 "nbformat": 4,
 "nbformat_minor": 2
}
