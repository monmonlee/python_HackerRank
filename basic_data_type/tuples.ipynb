{
 "cells": [
  {
   "cell_type": "markdown",
   "metadata": {},
   "source": [
    "Task\n",
    "Given an integer, n, and n space-separated integers as input, create a tuple, , of those  integers. Then compute and print the result of .\n",
    "\n",
    "Note: hash() is one of the functions in the __builtins__ module, so it need not be imported."
   ]
  },
  {
   "cell_type": "markdown",
   "metadata": {},
   "source": [
    "題目解析：\n",
    "\n",
    "- n = n個以空格分隔的整數\n",
    "- integer_list = 實際的這些數值\n",
    "- 題目要求：將 integer_list 做成一個 tuple ，並計算這個 tuple 的 hush() 值且印出"
   ]
  },
  {
   "cell_type": "markdown",
   "metadata": {},
   "source": [
    "##### 小筆記：hash() & tuple()\n",
    "- hash()\n",
    "    - 定義：資料結構之一，可以為每一個值提供一個「密碼（位置）」\n",
    "    - 優勢：快速查找，因為是逐一對應的，不像array會需要遍歷後找到，以下是hash的時間複雜度：search → o(1), insert → o(1), delete → o(1) ，而對應起來array都是o(n)\n",
    "    - hash collision：兩個input不一樣，但是hash之後的key一樣的情況，有以下的解決方法：\n",
    "        - open addressing 開放定址法：當位置已經被佔用，後來的要嘗試找其他空位放入，找的方法有線性探測（一格格找空位）等等的\n",
    "        - chaining 鏈結法：表格的位置不只存一個「值」，而是一個鏈（通常是linked-list），所以當有複數值在此衝突時，他們會一去被掛在這個bucket的list裡\n",
    "    - 特性：\n",
    "        -  單向道路，不可逆：可以「用值查位置」，不能「用位置查值」，因為位置可能有負數的值，解決方法是可以建立一個「反向哈希表」，或者是直接暴力遍歷搜尋\n",
    "        - 僅能處理不可變物件，例如單一元素，或者是tuple\n",
    "- tuple\n",
    "    - 在 python 中，不可變(immutable)的物件，一但賦值後就不能更改 → 適合 hush\n",
    "    - 有序：會保留順序，永遠某位置就是某值\n",
    "    - 允許重複元素\n",
    "    - 省記憶體，執行效率快：因為都不可變\n",
    "    - 建立單一元素的tuple要加逗號 → `t = (1, )`"
   ]
  },
  {
   "cell_type": "code",
   "execution_count": 5,
   "metadata": {},
   "outputs": [
    {
     "name": "stdout",
     "output_type": "stream",
     "text": [
      "-3550055125485641917\n"
     ]
    }
   ],
   "source": [
    "# 題目給定\n",
    "if __name__ == '__main__':\n",
    "    n = int(input())\n",
    "    integer_list = map(int, input().split())\n",
    "    tuple_list = tuple(integer_list)\n",
    "    print(hash(tuple_list))\n",
    "# python 版本不同會導致出來的結果不一樣（因為py3加入新的隨機變數），所以筆試要確保環境是一致的"
   ]
  }
 ],
 "metadata": {
  "kernelspec": {
   "display_name": "Python 3.9.6 64-bit",
   "language": "python",
   "name": "python3"
  },
  "language_info": {
   "codemirror_mode": {
    "name": "ipython",
    "version": 3
   },
   "file_extension": ".py",
   "mimetype": "text/x-python",
   "name": "python",
   "nbconvert_exporter": "python",
   "pygments_lexer": "ipython3",
   "version": "3.9.6"
  },
  "orig_nbformat": 4,
  "vscode": {
   "interpreter": {
    "hash": "31f2aee4e71d21fbe5cf8b01ff0e069b9275f58929596ceb00d14d90e3e16cd6"
   }
  }
 },
 "nbformat": 4,
 "nbformat_minor": 2
}
