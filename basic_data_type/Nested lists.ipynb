{
 "cells": [
  {
   "cell_type": "markdown",
   "metadata": {},
   "source": [
    "Given the names and grades for each student in a class of n students, store them in a nested list and print the name(s) of any student(s) having the second lowest grade.\n",
    "\n",
    "Note: If there are multiple students with the second lowest grade, order their names alphabetically and print each name on a new line.\n",
    "\n",
    "\n",
    "Input Format\n",
    "The first line contains an integer, n, the number of students.\n",
    "The 2n subsequent lines describe each student over 2 lines.\n",
    "- The first line contains a student's name.\n",
    "- The second line contains their grade.\n",
    "\n",
    "\n",
    "\n",
    "##### 題目解析\n",
    "建立巢狀list，其中包含每位學生的「姓名＋成績」，並且返回「第二低分數」同學的「姓名」，且按照字母順序排列。"
   ]
  },
  {
   "cell_type": "code",
   "execution_count": 45,
   "metadata": {},
   "outputs": [
    {
     "name": "stdout",
     "output_type": "stream",
     "text": [
      "berry\n",
      "harry\n"
     ]
    }
   ],
   "source": [
    "# 陽春版：自己的解答\n",
    "if __name__ == '__main__':\n",
    "    total_list = []  # 先建立巢狀的列表，包含學生姓名與分數\n",
    "    for _ in range(int(input())): # 題目給定\n",
    "        name = input() # 題目給定\n",
    "        score = float(input()) # 題目給定\n",
    "        grade = [name, score] # 將單一學生的姓名＆分數組合成list\n",
    "        total_list.append(grade) #將所有的組合包進total_list，變成巢狀列表\n",
    "         \n",
    "    scores = [] # 要排序分數，建立分數的空list\n",
    "    for i in total_list: # 把所有分數加入分數列表\n",
    "        scores.append(i[1])   # 使用切片，可以找到每一個學生第二個位置的分數\n",
    "    second_lower = sorted(set(scores))[1] # 在分數列表中，找到第二低的分數\n",
    "    \n",
    "    final_names = [] # 最後需要找出姓名，在建立一個空的姓名結果列表\n",
    "    for i in total_list: # 在所有總列表中\n",
    "        if i[1] == second_lower: # 如果有學生的分數與目標分數相符\n",
    "            final_names.append(i[0]) # 將這位學生的姓名加入結果列表中\n",
    "            \n",
    "    for i in sorted(final_names): # 最後排序這個結果姓名列表\n",
    "        print(i) "
   ]
  },
  {
   "cell_type": "code",
   "execution_count": null,
   "metadata": {},
   "outputs": [],
   "source": [
    "# 進階版：List Comprehension\n",
    "# 解釋：上面的解法總共建立了３個空列表、４段迴圈才完成\n",
    "\n",
    "if __name__ == '__main__':\n",
    "    total_list = []  \n",
    "    for _ in range(int(input())): # 題目給定\n",
    "        name = input() # 題目給定\n",
    "        score = float(input()) # 題目給定\n",
    "        total_list.append([name, score]) \n",
    "    \n",
    "    # 找分數\n",
    "    score_list = [i[1] for i in total_list]\n",
    "    second_lower = sorted(set(score_list))[1] \n",
    "\n",
    "    # 找姓名(記得List Comprehension 只能簡化list的創建，印出裡面的元素還是需要傳統寫法)\n",
    "    result_name_list = [i[0] for i in total_list if i[1] == second_lower ]\n",
    "    for result_name in sorted(result_name_list):\n",
    "        print(result_name)"
   ]
  }
 ],
 "metadata": {
  "kernelspec": {
   "display_name": "Python 3.9.6 64-bit",
   "language": "python",
   "name": "python3"
  },
  "language_info": {
   "codemirror_mode": {
    "name": "ipython",
    "version": 3
   },
   "file_extension": ".py",
   "mimetype": "text/x-python",
   "name": "python",
   "nbconvert_exporter": "python",
   "pygments_lexer": "ipython3",
   "version": "3.9.6"
  },
  "orig_nbformat": 4,
  "vscode": {
   "interpreter": {
    "hash": "31f2aee4e71d21fbe5cf8b01ff0e069b9275f58929596ceb00d14d90e3e16cd6"
   }
  }
 },
 "nbformat": 4,
 "nbformat_minor": 2
}
