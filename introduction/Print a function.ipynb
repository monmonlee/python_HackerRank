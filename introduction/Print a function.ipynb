{
 "cells": [
  {
   "cell_type": "code",
   "execution_count": null,
   "metadata": {},
   "outputs": [],
   "source": [
    "'''\n",
    "The included code stub will read an integer, n , from STDIN.\n",
    "\n",
    "Without using any string methods, try to print the following:\n",
    "123...n\n",
    "\n",
    "Note that \"...\" represents the consecutive values in between.\n",
    "\n",
    "Example \n",
    "n =5 \n",
    "\n",
    "Print the string 12345 .\n",
    "'''"
   ]
  },
  {
   "cell_type": "code",
   "execution_count": 2,
   "metadata": {},
   "outputs": [
    {
     "name": "stdout",
     "output_type": "stream",
     "text": [
      "[1, 2, 3, 4, 5]\n"
     ]
    },
    {
     "data": {
      "text/plain": [
       "''"
      ]
     },
     "execution_count": 2,
     "metadata": {},
     "output_type": "execute_result"
    }
   ],
   "source": [
    "# 錯誤回答\n",
    "if __name__ == '__main__':\n",
    "    n = int(input())\n",
    "    a = []\n",
    "    for i in range(1, n+1):\n",
    "        a.append(i)\n",
    "    print(a)\n",
    "'''\n",
    "回答錯誤：因為還是int形式\n",
    "'''"
   ]
  },
  {
   "cell_type": "code",
   "execution_count": 3,
   "metadata": {},
   "outputs": [
    {
     "name": "stdout",
     "output_type": "stream",
     "text": [
      "12345\n"
     ]
    }
   ],
   "source": [
    "# 正確解答\n",
    "if __name__ == '__main__':\n",
    "    n = int(input())\n",
    "    a = ''\n",
    "    for i in range(1, n+1):\n",
    "        a += str(i)\n",
    "    print(a)"
   ]
  },
  {
   "cell_type": "code",
   "execution_count": 4,
   "metadata": {},
   "outputs": [
    {
     "name": "stdout",
     "output_type": "stream",
     "text": [
      "123456\n"
     ]
    }
   ],
   "source": [
    "'''\n",
    "補充：什麼是string methods？\n",
    "text = \"Hello World\"\n",
    "text.upper()        # \"HELLO WORLD\" - 轉大寫\n",
    "text.lower()        # \"hello world\" - 轉小寫\n",
    "text.title()        # \"Hello World\" - 標題格式\n",
    "text.strip()        # 去除前後空白\n",
    ".join()             # 合併字串\n",
    "題目禁止的可能原因：使用以上項目太簡單就達到\n",
    "'''\n",
    "# 例如 '.join()'可以輕易完成本題\n",
    "if __name__ == '__main__':\n",
    "    n = int(input())\n",
    "    result = \"\".join(str(i) for i in range(1, n+1))\n",
    "print(result)\n",
    "\n",
    "'''\n",
    ".join()用法：\"\".join(str(i) for i in range(1, n+1))是將「空引號''」連接「迴圈產出的str(i)」，而且是每一個分隔符的連接。\n",
    "'''"
   ]
  }
 ],
 "metadata": {
  "kernelspec": {
   "display_name": "Python 3.9.6 64-bit",
   "language": "python",
   "name": "python3"
  },
  "language_info": {
   "codemirror_mode": {
    "name": "ipython",
    "version": 3
   },
   "file_extension": ".py",
   "mimetype": "text/x-python",
   "name": "python",
   "nbconvert_exporter": "python",
   "pygments_lexer": "ipython3",
   "version": "3.9.6"
  },
  "orig_nbformat": 4,
  "vscode": {
   "interpreter": {
    "hash": "31f2aee4e71d21fbe5cf8b01ff0e069b9275f58929596ceb00d14d90e3e16cd6"
   }
  }
 },
 "nbformat": 4,
 "nbformat_minor": 2
}
