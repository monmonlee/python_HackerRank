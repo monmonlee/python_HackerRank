{
 "cells": [
  {
   "cell_type": "markdown",
   "metadata": {},
   "source": [
    " You have to print the number of times that the\n",
    "  substring occurs in the given string.\n",
    "\n",
    "題目：列印出字串裡面，指定字串重複的次數。\n",
    "步驟：列印出每一個字、條件式、次數 = len() \n",
    "問題：是會迭代字詞的，且連續，那這樣如何比較？因為不是單一字詞\n",
    "切出所有等於子串列的排列組合，再計算次數？\n",
    "如何切出所有等於子串列的排列組合？ target = (a[i] + a[i+1])\n",
    "現在只剩下如何印出組合出現的次數\n"
   ]
  },
  {
   "cell_type": "code",
   "execution_count": null,
   "metadata": {},
   "outputs": [],
   "source": [
    "def count_substring(string, sub_string):\n",
    "    return\n",
    "\n",
    "if __name__ == '__main__':\n",
    "    string = input().strip()\n",
    "    sub_string = input().strip()\n",
    "    \n",
    "    count = count_substring(string, sub_string)\n",
    "    print(count)"
   ]
  },
  {
   "cell_type": "code",
   "execution_count": 12,
   "metadata": {},
   "outputs": [
    {
     "name": "stdout",
     "output_type": "stream",
     "text": [
      "y\n",
      "o\n",
      "y\n",
      "o\n",
      "t\n",
      "v\n"
     ]
    }
   ],
   "source": [
    "# 測試\n",
    "string = input().strip()\n",
    "# sub_string = input().strip()\n",
    "# print(string, sub_string)\n",
    "for i in string:\n",
    "    print(i)\n",
    "\n"
   ]
  },
  {
   "cell_type": "code",
   "execution_count": 32,
   "metadata": {},
   "outputs": [
    {
     "name": "stdout",
     "output_type": "stream",
     "text": [
      "2\n"
     ]
    }
   ],
   "source": [
    " # 這樣寫不行， 因為b不一定是固定的\n",
    "a = 'yoyotv'\n",
    "b = 'yo'\n",
    "count = 0\n",
    "for i in range(0, len(a)-1):\n",
    "    target = (a[i] + a[i+1])\n",
    "    if b == target:\n",
    "        count += 1\n",
    "print(count)\n",
    "\n"
   ]
  },
  {
   "cell_type": "code",
   "execution_count": 6,
   "metadata": {},
   "outputs": [
    {
     "name": "stdout",
     "output_type": "stream",
     "text": [
      "4\n"
     ]
    }
   ],
   "source": [
    "# 不固定的子字串排列\n",
    "\n",
    "a = 'yoyoyoyotv' # 10\n",
    "b = 'yo' # 2\n",
    "b_len = len(b)\n",
    "count = 0 #起始為0\n",
    "for i in range(len(a) - b_len + 1 ): \n",
    "    # 10-2+1 = 9 why 是range(9?) 因為確保找的次數不要少於子串列\n",
    "    # 例如，不希望查到最後一個是v?，但其實已經到頭了。\n",
    "    target = a[i:i+b_len]\n",
    "    if target == b:\n",
    "        count += 1\n",
    "print(count) # 只需要最終結果，print最外層\n",
    "        \n",
    "# a[i:i+b_len]\n",
    "# 0:0+2 = 0:2 = 0, 1\n",
    "# 1:1+2 = 1:3 = 1, 2\n"
   ]
  },
  {
   "cell_type": "code",
   "execution_count": 8,
   "metadata": {},
   "outputs": [
    {
     "name": "stdout",
     "output_type": "stream",
     "text": [
      "2\n"
     ]
    }
   ],
   "source": [
    "def count_substring(string, sub_string):\n",
    "    len_sub_string = len(sub_string)\n",
    "    count = 0\n",
    "    for i in range(0, len(string) - len_sub_string + 1):\n",
    "        target = string[i:i+len_sub_string]\n",
    "        if target == sub_string:\n",
    "            count += 1\n",
    "    return count\n",
    "\n",
    "if __name__ == '__main__':\n",
    "    string = input().strip()\n",
    "    sub_string = input().strip()\n",
    "    count = count_substring(string, sub_string)\n",
    "    print(count)"
   ]
  },
  {
   "cell_type": "markdown",
   "metadata": {},
   "source": [
    "##### 學習筆記\n",
    "- 動態的參數：`a[i:i+1] -> a[i:i+len(b)]` 可以按照輸出的字串數量而定\n",
    "- 索引範圍控制：考量到`range(len(a))`會呈現「最後一個值還要跟其他匹配會越界」-> `range(len(a)-len(b)+1)`可以避開界線"
   ]
  },
  {
   "cell_type": "markdown",
   "metadata": {},
   "source": []
  }
 ],
 "metadata": {
  "kernelspec": {
   "display_name": "Python 3.9.6 64-bit",
   "language": "python",
   "name": "python3"
  },
  "language_info": {
   "codemirror_mode": {
    "name": "ipython",
    "version": 3
   },
   "file_extension": ".py",
   "mimetype": "text/x-python",
   "name": "python",
   "nbconvert_exporter": "python",
   "pygments_lexer": "ipython3",
   "version": "3.9.6"
  },
  "orig_nbformat": 4,
  "vscode": {
   "interpreter": {
    "hash": "31f2aee4e71d21fbe5cf8b01ff0e069b9275f58929596ceb00d14d90e3e16cd6"
   }
  }
 },
 "nbformat": 4,
 "nbformat_minor": 2
}
