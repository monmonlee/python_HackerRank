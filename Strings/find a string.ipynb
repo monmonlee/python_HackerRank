{
 "cells": [
  {
   "cell_type": "markdown",
   "metadata": {},
   "source": [
    " You have to print the number of times that the\n",
    "  substring occurs in the given string.\n",
    "\n",
    "題目：列印出字串裡面，指定字串重複的次數。\n",
    "步驟：列印出每一個字、條件式、次數 = len() \n",
    "問題：是會迭代字詞的，且連續，那這樣如何比較？因為不是單一字詞\n",
    "切出所有等於子串列的排列組合，再計算次數？\n",
    "如何切出所有等於子串列的排列組合？ target = (a[i] + a[i+1])\n",
    "現在只剩下如何印出組合出現的次數\n"
   ]
  },
  {
   "cell_type": "code",
   "execution_count": null,
   "metadata": {},
   "outputs": [],
   "source": [
    "def count_substring(string, sub_string):\n",
    "    return\n",
    "\n",
    "if __name__ == '__main__':\n",
    "    string = input().strip()\n",
    "    sub_string = input().strip()\n",
    "    \n",
    "    count = count_substring(string, sub_string)\n",
    "    print(count)"
   ]
  },
  {
   "cell_type": "code",
   "execution_count": 12,
   "metadata": {},
   "outputs": [
    {
     "name": "stdout",
     "output_type": "stream",
     "text": [
      "y\n",
      "o\n",
      "y\n",
      "o\n",
      "t\n",
      "v\n"
     ]
    }
   ],
   "source": [
    "# def count_substring(string, sub_string):\n",
    "#     return\n",
    "\n",
    "string = input().strip()\n",
    "# sub_string = input().strip()\n",
    "# print(string, sub_string)\n",
    "for i in string:\n",
    "    print(i)\n",
    "\n"
   ]
  },
  {
   "cell_type": "code",
   "execution_count": 32,
   "metadata": {},
   "outputs": [
    {
     "name": "stdout",
     "output_type": "stream",
     "text": [
      "2\n"
     ]
    }
   ],
   "source": [
    "a = 'yoyotv'\n",
    "b = 'yo'\n",
    "count = 0\n",
    "for i in range(0, len(a)-1):\n",
    "    target = (a[i] + a[i+1]) # 這樣寫不行， 因為b不一定是固定的\n",
    "    if b == target:\n",
    "        count += 1\n",
    "print(count)\n",
    "\n"
   ]
  },
  {
   "cell_type": "code",
   "execution_count": null,
   "metadata": {},
   "outputs": [],
   "source": []
  }
 ],
 "metadata": {
  "kernelspec": {
   "display_name": "Python 3.9.6 64-bit",
   "language": "python",
   "name": "python3"
  },
  "language_info": {
   "codemirror_mode": {
    "name": "ipython",
    "version": 3
   },
   "file_extension": ".py",
   "mimetype": "text/x-python",
   "name": "python",
   "nbconvert_exporter": "python",
   "pygments_lexer": "ipython3",
   "version": "3.9.6"
  },
  "orig_nbformat": 4,
  "vscode": {
   "interpreter": {
    "hash": "31f2aee4e71d21fbe5cf8b01ff0e069b9275f58929596ceb00d14d90e3e16cd6"
   }
  }
 },
 "nbformat": 4,
 "nbformat_minor": 2
}
