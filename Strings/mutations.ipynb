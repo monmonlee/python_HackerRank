{
 "cells": [
  {
   "cell_type": "markdown",
   "id": "dba8e739",
   "metadata": {},
   "source": [
    "We have seen that lists are mutable (they can be changed), and tuples are immutable (they cannot be changed).\n",
    "\n",
    "Let's try to understand this with an example.\n",
    "\n",
    "You are given an immutable string, and you want to make changes to it."
   ]
  },
  {
   "cell_type": "code",
   "execution_count": 1,
   "id": "ed8059b3",
   "metadata": {},
   "outputs": [
    {
     "data": {
      "text/plain": [
       "'e'"
      ]
     },
     "execution_count": 1,
     "metadata": {},
     "output_type": "execute_result"
    }
   ],
   "source": [
    "# 示範：如何改變字串裡面的字\n",
    "s = \"amelie\"\n",
    "s[2]\n",
    "# 你可以印出此字串的第二個字符，但沒有辦法直接使用`s[2] = new_world`"
   ]
  },
  {
   "cell_type": "code",
   "execution_count": 2,
   "id": "304d0c76",
   "metadata": {},
   "outputs": [
    {
     "data": {
      "text/plain": [
       "'amzlie'"
      ]
     },
     "execution_count": 2,
     "metadata": {},
     "output_type": "execute_result"
    }
   ],
   "source": [
    "# 改動字串內文加整合→先轉換成list，再透過join()合併\n",
    "s_list = list(s)\n",
    "s_list[2] = \"z\"\n",
    "new_s = ''.join(s_list)\n",
    "new_s"
   ]
  },
  {
   "cell_type": "markdown",
   "id": "6ec50f5c",
   "metadata": {},
   "source": [
    "##### Task\n",
    "\n",
    "Read a given string, change the character at a given index and then print the modified string."
   ]
  },
  {
   "cell_type": "code",
   "execution_count": 5,
   "id": "58c9e698",
   "metadata": {},
   "outputs": [
    {
     "ename": "UnboundLocalError",
     "evalue": "local variable 's' referenced before assignment",
     "output_type": "error",
     "traceback": [
      "\u001b[0;31m---------------------------------------------------------------------------\u001b[0m",
      "\u001b[0;31mUnboundLocalError\u001b[0m                         Traceback (most recent call last)",
      "Cell \u001b[0;32mIn[5], line 11\u001b[0m\n\u001b[1;32m      9\u001b[0m s \u001b[39m=\u001b[39m \u001b[39minput\u001b[39m() \u001b[39m# 字串\u001b[39;00m\n\u001b[1;32m     10\u001b[0m i, c \u001b[39m=\u001b[39m \u001b[39minput\u001b[39m()\u001b[39m.\u001b[39msplit() \u001b[39m# 位置 要改的詞\u001b[39;00m\n\u001b[0;32m---> 11\u001b[0m s_new \u001b[39m=\u001b[39m mutate_string(s, \u001b[39mint\u001b[39;49m(i), c)\n\u001b[1;32m     12\u001b[0m \u001b[39mprint\u001b[39m(s_new)\n",
      "Cell \u001b[0;32mIn[5], line 3\u001b[0m, in \u001b[0;36mmutate_string\u001b[0;34m(string, position, character)\u001b[0m\n\u001b[1;32m      2\u001b[0m \u001b[39mdef\u001b[39;00m \u001b[39mmutate_string\u001b[39m(string, position, character):\n\u001b[0;32m----> 3\u001b[0m     s_list \u001b[39m=\u001b[39m \u001b[39mlist\u001b[39m(s) \n\u001b[1;32m      4\u001b[0m     s_list[i] \u001b[39m=\u001b[39m c\n\u001b[1;32m      5\u001b[0m     s \u001b[39m=\u001b[39m \u001b[39m\"\u001b[39m\u001b[39m\"\u001b[39m\u001b[39m.\u001b[39mjoin(s_list)\n",
      "\u001b[0;31mUnboundLocalError\u001b[0m: local variable 's' referenced before assignment"
     ]
    }
   ],
   "source": [
    "# 題目給定\n",
    "def mutate_string(string, position, character):\n",
    "    s[i] = c\n",
    "    return s\n",
    "\n",
    "if __name__ == '__main__':\n",
    "    s = input()\n",
    "    i, c = input().split()\n",
    "    s_new = mutate_string(s, int(i), c)\n",
    "    print(s_new)"
   ]
  },
  {
   "cell_type": "code",
   "execution_count": 11,
   "id": "63375866",
   "metadata": {},
   "outputs": [
    {
     "ename": "SyntaxError",
     "evalue": "invalid character '，' (U+FF0C) (618666820.py, line 15)",
     "output_type": "error",
     "traceback": [
      "\u001b[0;36m  Cell \u001b[0;32mIn[11], line 15\u001b[0;36m\u001b[0m\n\u001b[0;31m    成功了，但我有想問你的地方，看起來我們要先在def裡面指向對應參數。\u001b[0m\n\u001b[0m       ^\u001b[0m\n\u001b[0;31mSyntaxError\u001b[0m\u001b[0;31m:\u001b[0m invalid character '，' (U+FF0C)\n"
     ]
    }
   ],
   "source": [
    "def mutate_string(string, position, character):\n",
    "    s = list(string)\n",
    "    i = position\n",
    "    c = character\n",
    "    s[i] = c\n",
    "    return \"\".join(s)\n",
    "\n",
    "if __name__ == '__main__':\n",
    "    s = input()\n",
    "    i, c = input().split()\n",
    "    s_new = mutate_string(s, int(i), c)\n",
    "    print(s_new)\n",
    "\n",
    "\n",
    "    成功了，但我有想問你的地方，看起來我們要先在def裡面指向對應參數。\n",
    "    但我好奇的是，現在是因為這個題目的三個參數為s, int(i), c，所以我們才要對應def的string, position, character\n",
    "    但看起來這樣的變法變成def去「迎合」下面參數的名稱，這樣好怪喔？因為我以為def會自動帶入三個參數就直接等於string, position, character，結果我們竟然要指向，\n",
    "    那今天假設有一個新的數為r_new = mutate_string(a, b, c)，那我們的def不就要改嗎？"
   ]
  },
  {
   "cell_type": "code",
   "execution_count": null,
   "id": "4b9d957c",
   "metadata": {},
   "outputs": [],
   "source": []
  }
 ],
 "metadata": {
  "kernelspec": {
   "display_name": "Python 3.9.6 64-bit",
   "language": "python",
   "name": "python3"
  },
  "language_info": {
   "codemirror_mode": {
    "name": "ipython",
    "version": 3
   },
   "file_extension": ".py",
   "mimetype": "text/x-python",
   "name": "python",
   "nbconvert_exporter": "python",
   "pygments_lexer": "ipython3",
   "version": "3.9.6"
  },
  "vscode": {
   "interpreter": {
    "hash": "31f2aee4e71d21fbe5cf8b01ff0e069b9275f58929596ceb00d14d90e3e16cd6"
   }
  }
 },
 "nbformat": 4,
 "nbformat_minor": 5
}
