{
 "cells": [
  {
   "cell_type": "markdown",
   "id": "dba8e739",
   "metadata": {},
   "source": [
    "We have seen that lists are mutable (they can be changed), and tuples are immutable (they cannot be changed).\n",
    "\n",
    "Let's try to understand this with an example.\n",
    "\n",
    "You are given an immutable string, and you want to make changes to it."
   ]
  },
  {
   "cell_type": "code",
   "execution_count": 1,
   "id": "ed8059b3",
   "metadata": {},
   "outputs": [
    {
     "data": {
      "text/plain": [
       "'e'"
      ]
     },
     "execution_count": 1,
     "metadata": {},
     "output_type": "execute_result"
    }
   ],
   "source": [
    "# 示範：如何改變字串裡面的字\n",
    "s = \"amelie\"\n",
    "s[2]\n",
    "# 你可以印出此字串的第二個字符，但沒有辦法直接使用`s[2] = new_world`"
   ]
  },
  {
   "cell_type": "code",
   "execution_count": 2,
   "id": "304d0c76",
   "metadata": {},
   "outputs": [
    {
     "data": {
      "text/plain": [
       "'amzlie'"
      ]
     },
     "execution_count": 2,
     "metadata": {},
     "output_type": "execute_result"
    }
   ],
   "source": [
    "# 改動字串內文加整合→先轉換成list，再透過join()合併\n",
    "s_list = list(s)\n",
    "s_list[2] = \"z\"\n",
    "new_s = ''.join(s_list)\n",
    "new_s"
   ]
  },
  {
   "cell_type": "markdown",
   "id": "6ec50f5c",
   "metadata": {},
   "source": [
    "##### Task\n",
    "\n",
    "Read a given string, change the character at a given index and then print the modified string."
   ]
  },
  {
   "cell_type": "code",
   "execution_count": null,
   "id": "58c9e698",
   "metadata": {},
   "outputs": [],
   "source": [
    "# 題目給定\n",
    "def mutate_string(string, position, character):\n",
    "    s[i] = c\n",
    "    return s\n",
    "\n",
    "if __name__ == '__main__':\n",
    "    s = input()\n",
    "    i, c = input().split()\n",
    "    s_new = mutate_string(s, int(i), c)\n",
    "    print(s_new)"
   ]
  },
  {
   "cell_type": "code",
   "execution_count": 12,
   "id": "63375866",
   "metadata": {},
   "outputs": [
    {
     "name": "stdout",
     "output_type": "stream",
     "text": [
      "amzlie\n"
     ]
    }
   ],
   "source": [
    "# 解答\n",
    "def mutate_string(string, position, character):\n",
    "    s = list(string)\n",
    "    i = position\n",
    "    c = character\n",
    "    s[i] = c # 因為題目給定一定要用這個，所以傳入的三個參數要重新對齊\n",
    "    return \"\".join(s)\n",
    "\n",
    "if __name__ == '__main__':\n",
    "    s = input()\n",
    "    i, c = input().split()\n",
    "    s_new = mutate_string(s, int(i), c)\n",
    "    print(s_new)\n",
    "\n",
    "\n"
   ]
  }
 ],
 "metadata": {
  "kernelspec": {
   "display_name": "Python 3.9.6 64-bit",
   "language": "python",
   "name": "python3"
  },
  "language_info": {
   "codemirror_mode": {
    "name": "ipython",
    "version": 3
   },
   "file_extension": ".py",
   "mimetype": "text/x-python",
   "name": "python",
   "nbconvert_exporter": "python",
   "pygments_lexer": "ipython3",
   "version": "3.9.6"
  },
  "vscode": {
   "interpreter": {
    "hash": "31f2aee4e71d21fbe5cf8b01ff0e069b9275f58929596ceb00d14d90e3e16cd6"
   }
  }
 },
 "nbformat": 4,
 "nbformat_minor": 5
}
