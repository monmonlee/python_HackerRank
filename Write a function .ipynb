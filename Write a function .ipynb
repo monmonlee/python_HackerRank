{
 "cells": [
  {
   "cell_type": "code",
   "execution_count": null,
   "metadata": {},
   "outputs": [],
   "source": [
    "def is_leap (x):\n",
    "    if x % 4 == 0 and x % 400 == 0:\n",
    "        return True\n",
    "    elif x % 4 != 0 or x % 4 == 0 and x % 100 ==0 :\n",
    "        return False\n",
    "\n",
    "n = 2500\n",
    "print(is_leap(n))\n",
    "\n",
    "\n",
    "'''\n",
    "錯誤！因為第一行if x % 4 == 0 and x % 400 == 0太嚴苛，x % 4 == 0只要符合大致上都會是閏年\n",
    "'''"
   ]
  },
  {
   "cell_type": "code",
   "execution_count": null,
   "metadata": {},
   "outputs": [],
   "source": [
    "'''\n",
    "解法一：巢狀結構\n",
    "詳細的從最外圈開始執行每一個條件\n",
    "'''\n",
    "def is_leap (x):\n",
    "    if x % 4 == 0 :\n",
    "        if x % 100 == 0:\n",
    "            if x % 400 == 0:\n",
    "                return True\n",
    "            else:\n",
    "                return False\n",
    "        else:\n",
    "            return True\n",
    "    else:\n",
    "        return False\n",
    "\n",
    "n = 2500\n",
    "print(is_leap(n))\n"
   ]
  },
  {
   "cell_type": "code",
   "execution_count": null,
   "metadata": {},
   "outputs": [],
   "source": [
    "'''\n",
    "解法二：先順序\n",
    "從最達成的條件開始依序\n",
    "'''\n",
    "def is_leap(x):\n",
    "    if x % 400 == 0:\n",
    "        return True\n",
    "    elif x % 100 == 0:\n",
    "        return False\n",
    "    elif x % 4 == 0:\n",
    "        return True\n",
    "    else:\n",
    "        return False\n",
    "\n",
    "\n",
    "'''\n",
    "elif 特性：線性互斥，elif會由上往下尋找符合條件的答案，\n",
    "所以 假設一個「可以被４整除但不能被１００整除的數」，第一關會是false、第二關也會是false，就會進入第三關，返回true\n",
    "'''"
   ]
  }
 ],
 "metadata": {
  "kernelspec": {
   "display_name": "Python 3.9.6 64-bit",
   "language": "python",
   "name": "python3"
  },
  "language_info": {
   "name": "python",
   "version": "3.9.6"
  },
  "orig_nbformat": 4,
  "vscode": {
   "interpreter": {
    "hash": "31f2aee4e71d21fbe5cf8b01ff0e069b9275f58929596ceb00d14d90e3e16cd6"
   }
  }
 },
 "nbformat": 4,
 "nbformat_minor": 2
}
